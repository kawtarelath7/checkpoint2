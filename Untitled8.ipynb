{
 "cells": [
  {
   "cell_type": "code",
   "execution_count": 1,
   "id": "afa30dea",
   "metadata": {},
   "outputs": [
    {
     "name": "stdout",
     "output_type": "stream",
     "text": [
      "saisir le nom:el athmani\n",
      "saisir le prenom:kawtar\n",
      "KAWTAR El Athmani\n"
     ]
    }
   ],
   "source": [
    "nom=input(\"saisir le nom:\")\n",
    "prenom=input(\"saisir le prenom:\")\n",
    "result= prenom.upper() +\" \"+ nom.title()\n",
    "print(result)"
   ]
  },
  {
   "cell_type": "code",
   "execution_count": 9,
   "id": "95411fa2",
   "metadata": {},
   "outputs": [
    {
     "name": "stdout",
     "output_type": "stream",
     "text": [
      "615\n"
     ]
    }
   ],
   "source": [
    "x=5\n",
    "s=0\n",
    "for i in range (3):\n",
    "    resault= str(x) * (i+1)\n",
    "    s= s + int(resault)\n",
    "print (s)"
   ]
  },
  {
   "cell_type": "code",
   "execution_count": 3,
   "id": "7685e080",
   "metadata": {},
   "outputs": [
    {
     "name": "stdout",
     "output_type": "stream",
     "text": [
      "donner un nombre:16\n",
      "votre chiffre est paire\n"
     ]
    }
   ],
   "source": [
    "x=input(\"donner un nombre:\")\n",
    "if int(x)%2==0:\n",
    "    print(\"votre chiffre est paire\")\n",
    "else:\n",
    "    print (\"le chiffre est impaire\")"
   ]
  },
  {
   "cell_type": "code",
   "execution_count": 5,
   "id": "d5d8fddd",
   "metadata": {},
   "outputs": [
    {
     "name": "stdout",
     "output_type": "stream",
     "text": [
      "2002 , 2009 , 2016 , 2023 , 2037 , 2044 , 2051 , 2058 , 2072 , 2079 , 2086 , 2093 , 2107 , 2114 , 2121 , 2128 , 2142 , 2149 , 2156 , 2163 , 2177 , 2184 , 2191 , 2198 , 2212 , 2219 , 2226 , 2233 , 2247 , 2254 , 2261 , 2268 , 2282 , 2289 , 2296 , 2303 , 2317 , 2324 , 2331 , 2338 , 2352 , 2359 , 2366 , 2373 , 2387 , 2394 , 2401 , 2408 , 2422 , 2429 , 2436 , 2443 , 2457 , 2464 , 2471 , 2478 , 2492 , 2499 , 2506 , 2513 , 2527 , 2534 , 2541 , 2548 , 2562 , 2569 , 2576 , 2583 , 2597 , 2604 , 2611 , 2618 , 2632 , 2639 , 2646 , 2653 , 2667 , 2674 , 2681 , 2688 , 2702 , 2709 , 2716 , 2723 , 2737 , 2744 , 2751 , 2758 , 2772 , 2779 , 2786 , 2793 , 2807 , 2814 , 2821 , 2828 , 2842 , 2849 , 2856 , 2863 , 2877 , 2884 , 2891 , 2898 , 2912 , 2919 , 2926 , 2933 , 2947 , 2954 , 2961 , 2968 , 2982 , 2989 , 2996 , 3003 , 3017 , 3024 , 3031 , 3038 , 3052 , 3059 , 3066 , 3073 , 3087 , 3094 , 3101 , 3108 , 3122 , 3129 , 3136 , 3143 , 3157 , 3164 , 3171 , 3178 , 3192 , 3199 , "
     ]
    }
   ],
   "source": [
    "for i in range (2000,3201):\n",
    "    if i%7==0  and i%5!=0:\n",
    "        print (i ,end=\" , \")"
   ]
  },
  {
   "cell_type": "code",
   "execution_count": 8,
   "id": "fd5be8a6",
   "metadata": {},
   "outputs": [
    {
     "name": "stdout",
     "output_type": "stream",
     "text": [
      "2\n",
      "2\n"
     ]
    }
   ],
   "source": [
    "x=input()\n",
    "resault=1\n",
    "for i in range(int(x)):\n",
    "    resault =resault*(i+1)\n",
    "print(resault)\n"
   ]
  },
  {
   "cell_type": "code",
   "execution_count": 7,
   "id": "25f19c89",
   "metadata": {},
   "outputs": [
    {
     "name": "stdout",
     "output_type": "stream",
     "text": [
      "hlota\n"
     ]
    }
   ],
   "source": [
    "n=\"hello team\"\n",
    "f=\"\"\n",
    "for i in range (0,len(n)):\n",
    "    if i%2==0:\n",
    "        f=f+n[i]\n",
    "print (f) "
   ]
  },
  {
   "cell_type": "code",
   "execution_count": 12,
   "id": "d6c223fa",
   "metadata": {},
   "outputs": [
    {
     "name": "stdout",
     "output_type": "stream",
     "text": [
      "200\n",
      "140.0\n"
     ]
    }
   ],
   "source": [
    "price=int(input())\n",
    "dist=1\n",
    "if price>=500:\n",
    "    dist= dist-0.5\n",
    "    dist*=price\n",
    "elif price>=200:\n",
    "    dist=dist-0.3\n",
    "    dist*=price\n",
    "else:\n",
    "    dist=dist-0.1\n",
    "    dist*=price\n",
    "print(dist)"
   ]
  },
  {
   "cell_type": "code",
   "execution_count": null,
   "id": "567c1d43",
   "metadata": {},
   "outputs": [],
   "source": []
  }
 ],
 "metadata": {
  "kernelspec": {
   "display_name": "Python 3 (ipykernel)",
   "language": "python",
   "name": "python3"
  },
  "language_info": {
   "codemirror_mode": {
    "name": "ipython",
    "version": 3
   },
   "file_extension": ".py",
   "mimetype": "text/x-python",
   "name": "python",
   "nbconvert_exporter": "python",
   "pygments_lexer": "ipython3",
   "version": "3.9.12"
  }
 },
 "nbformat": 4,
 "nbformat_minor": 5
}
